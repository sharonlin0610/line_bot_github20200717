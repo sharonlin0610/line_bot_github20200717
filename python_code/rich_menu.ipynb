{
 "cells": [
  {
   "cell_type": "code",
   "execution_count": 4,
   "metadata": {
    "scrolled": true
   },
   "outputs": [
    {
     "name": "stdout",
     "output_type": "stream",
     "text": [
      "-設定檔上傳結果\n",
      "richmenu-ab632e01b8035a9ff91d2d0546ceb9ba\n",
      "-圖片上傳結果\n",
      "None\n",
      "-設定檔上傳結果\n",
      "richmenu-641f7f831b5ee641a0de77fa9ed24663\n",
      "-圖片上傳結果\n",
      "None\n",
      "-設定檔上傳結果\n",
      "richmenu-18f50c9b9fa55dafeaf970265a5399dd\n",
      "-圖片上傳結果\n",
      "None\n"
     ]
    }
   ],
   "source": [
    "'''\n",
    "只跑第一跟第二步驟！\n",
    "迴圈讀取本地列表，\n",
    "    上傳設定檔，取得id，並將id寫入檔案中，而後上傳圖片\n",
    "\n",
    "'''\n",
    "\n",
    "import json\n",
    "from linebot import LineBotApi\n",
    "\n",
    "# 載入安全設定檔\n",
    "secretFileContentJson=json.load(open(\"./line_secret_key\",'r',encoding='utf8'))\n",
    "line_bot_api = LineBotApi(secretFileContentJson.get(\"channel_access_token\"))\n",
    "\n",
    "\n",
    "\n",
    "'''\n",
    "rich_menu的本地列表\n",
    "'''\n",
    "rich_menu_array=['rich_menu_test', 'rich_menu_0', 'rich_menu_1']\n",
    "\n",
    "from linebot.models import RichMenu\n",
    "\n",
    "for rich_menu_name in rich_menu_array:\n",
    "\n",
    "    \n",
    "    # 創建菜單，取得menuId\n",
    "    lineRichMenuId = line_bot_api.create_rich_menu(rich_menu=RichMenu.new_from_json_dict(\n",
    "        json.load(open(\"素材/\"+rich_menu_name+'/rich_menu.json','r',encoding='utf8'))))\n",
    "    print(\"-設定檔上傳結果\")\n",
    "    print(lineRichMenuId)\n",
    "\n",
    "                                           \n",
    "    # id寫入本地端                              \n",
    "    f = open(\"素材/\"+rich_menu_name+\"/rich_menu_id\", \"w\",encoding='utf8')\n",
    "    f.write(lineRichMenuId)\n",
    "    f.close()                                       \n",
    " \n",
    "\n",
    "    # 上傳照片至該id\n",
    "    set_image_response=''\n",
    "    with open(\"素材/\"+rich_menu_name+'/rich_menu.jpg', 'rb') as f:\n",
    "        set_image_response=line_bot_api.set_rich_menu_image(lineRichMenuId, 'image/jpeg', f)\n",
    "        \n",
    "    print(\"-圖片上傳結果\")                                               \n",
    "    print(set_image_response)\n",
    "                                                                 \n"
   ]
  },
  {
   "cell_type": "code",
   "execution_count": 5,
   "metadata": {},
   "outputs": [
    {
     "data": {
      "text/plain": [
       "[{\"areas\": [{\"action\": {\"data\": \"folder=smart\", \"text\": \"\\u95dc\\u65bcSMart\", \"type\": \"postback\"}, \"bounds\": {\"height\": 851, \"width\": 839, \"x\": 0, \"y\": 0}}, {\"action\": {\"data\": \"folder=\\u6d3b\\u52d5\\u5167\\u5bb9\", \"text\": \"SMart\\u6d3b\\u52d5\", \"type\": \"postback\"}, \"bounds\": {\"height\": 839, \"width\": 828, \"x\": 842, \"y\": 8}}, {\"action\": {\"data\": \"folder=\\u5546\\u54c1\\u7cfb\\u7d71\", \"text\": \"SMart\\u63a8\\u85a6\", \"type\": \"postback\"}, \"bounds\": {\"height\": 834, \"width\": 829, \"x\": 1671, \"y\": 17}}, {\"action\": {\"data\": \"folder=\\u6d88\\u8cbb\\u8a18\\u9304\", \"text\": \"\\u6b77\\u53f2\\u7d00\\u9304\", \"type\": \"postback\"}, \"bounds\": {\"height\": 834, \"width\": 818, \"x\": 4, \"y\": 852}}, {\"action\": {\"data\": \"folder=hello\", \"text\": \"\\u8cfc\\u7269\\u8eca\", \"type\": \"postback\"}, \"bounds\": {\"height\": 835, \"width\": 836, \"x\": 821, \"y\": 851}}, {\"action\": {\"data\": \"folder=hi\", \"text\": \"\\u6703\\u54e1\\u4e2d\\u5fc3\", \"type\": \"postback\"}, \"bounds\": {\"height\": 836, \"width\": 833, \"x\": 1667, \"y\": 850}}], \"chatBarText\": \"\\u5716\\u6587\\u9078\\u55ae\", \"name\": \"\\u5716\\u6587\\u9078\\u55ae 1\", \"richMenuId\": \"richmenu-641f7f831b5ee641a0de77fa9ed24663\", \"selected\": true, \"size\": {\"height\": 1686, \"width\": 2500}},\n",
       " {\"areas\": [{\"action\": {\"text\": \"\\u7b2c\\u4e00\\u6b65\\uff0c\\n\\n\\u6383\\u53d6QR code\\uff0c\\u52a0\\u5165SMart\\u6703\\u54e1\\uff01\\n\\u958b\\u59cb\\u4f7f\\u7528\\u6703\\u54e1\\u670d\\u52d9\\u9078\\u55ae\\u529f\\u80fd\\u3002\\n(\\u8acb\\u5f80\\u53f3\\u9ede\\u4e0b\\u4e00\\u6b65)\", \"type\": \"message\"}, \"bounds\": {\"height\": 851, \"width\": 839, \"x\": 0, \"y\": 0}}, {\"action\": {\"text\": \"\\u7b2c\\u4e8c\\u6b65\\uff0c\\n\\n\\u6b61\\u8fce\\u9032\\u5165SMart\\u5546\\u5e97\\u9032\\u884c\\u9ad4\\u9a57\\uff01\\n(\\u8acb\\u5f80\\u53f3\\u9ede\\u4e0b\\u4e00\\u6b65)\", \"type\": \"message\"}, \"bounds\": {\"height\": 839, \"width\": 828, \"x\": 842, \"y\": 8}}, {\"action\": {\"text\": \"\\u7b2c\\u4e09\\u6b65\\uff0c\\n\\n\\u9032\\u5165\\u5546\\u5e97\\u5f8c\\u6703\\u9032\\u5165\\u6703\\u54e1\\u767b\\u5165\\u5340\\uff0c\\u6210\\u529f\\u5f8c\\u5373\\u53ef\\u62ff\\u53d6\\u5546\\u54c1\\u3002\\n(\\u8acb\\u9ede\\u4e0b\\u4e00\\u6b65)\", \"type\": \"message\"}, \"bounds\": {\"height\": 834, \"width\": 829, \"x\": 1671, \"y\": 17}}, {\"action\": {\"data\": \"menu=rich_menu_0\", \"text\": \"\\u7b2c\\u516d\\u6b65\\uff0c\\n\\n\\u8cc7\\u6599\\u90fd\\u6703\\u5b58\\u53d6\\u4e26\\u66f4\\u65b0\\uff0c\\u6bcf\\u4e00\\u6b21\\u67e5\\u770b\\u8cc7\\u6599\\u5c31\\u6703\\u986f\\u793a\\u645f\\uff01\\n\\n\\u9ad4\\u9a57\\u7d50\\u675f\\u4e86\\uff01\\u8acb\\u591a\\u591a\\u4f7f\\u7528SMart\\uff01\\n(\\u9ede\\u9078\\u5b8c\\u81ea\\u52d5\\u56de\\u5230\\u6703\\u54e1\\u670d\\u52d9\\u9078\\u55ae\\uff09\", \"type\": \"postback\"}, \"bounds\": {\"height\": 834, \"width\": 818, \"x\": 4, \"y\": 852}}, {\"action\": {\"text\": \"\\u7b2c\\u4e94\\u6b65\\uff0c\\n\\n\\u6d88\\u8cbb\\u7d50\\u675f\\u81ea\\u52d5\\u5beb\\u5165\\u7cfb\\u7d71\\uff0c\\u4ee5\\u53ca\\u986f\\u793a\\u6b77\\u53f2\\u4ea4\\u6613\\u3002\\n(\\u8acb\\u9ede\\u4e0b\\u4e00\\u6b65)\", \"type\": \"message\"}, \"bounds\": {\"height\": 835, \"width\": 836, \"x\": 821, \"y\": 851}}, {\"action\": {\"text\": \"\\u7b2c\\u56db\\u6b65\\uff0c\\n\\n\\u6703\\u54e1\\u62ff\\u53d6\\u5546\\u54c1\\uff0c\\u7cfb\\u7d71\\u5c07\\u6703\\u66f4\\u65b0\\u6703\\u54e1\\u7684\\u8cfc\\u7269\\u8eca\\uff0c\\n\\u7576\\u8d70\\u81f3\\u7d50\\u5e33\\u5340\\uff0c\\u7121\\u9700\\u51fa\\u793a\\u4fe1\\u7528\\u5361\\u6216\\u662f\\u73fe\\u91d1\\u4ea4\\u6613\\uff0c\\u9ad4\\u9a57\\u300c\\u5546\\u54c1\\u62ff\\u4e86\\u5c31\\u8d70\\u300d\\u7684\\u5feb\\u901f\\u6d88\\u8cbb\\u578b\\u614b\\u3002\\n(\\u8acb\\u9ede\\u4e0b\\u4e00\\u6b65)\", \"type\": \"message\"}, \"bounds\": {\"height\": 836, \"width\": 833, \"x\": 1667, \"y\": 850}}], \"chatBarText\": \"\\u5716\\u6587\\u9078\\u55ae\", \"name\": \"menu_0\", \"richMenuId\": \"richmenu-18f50c9b9fa55dafeaf970265a5399dd\", \"selected\": true, \"size\": {\"height\": 1686, \"width\": 2500}},\n",
       " {\"areas\": [{\"action\": {\"text\": \"\\u7b2c\\u4e00\\u6b65\\uff0c\\n\\n\\u6383\\u53d6QR code\\uff0c\\u52a0\\u5165SMart\\u6703\\u54e1\\uff01\\n\\u958b\\u59cb\\u4f7f\\u7528\\u6703\\u54e1\\u670d\\u52d9\\u9078\\u55ae\\u529f\\u80fd\\u3002\\n(\\u8acb\\u5f80\\u53f3\\u9ede\\u4e0b\\u4e00\\u6b65)\", \"type\": \"message\"}, \"bounds\": {\"height\": 851, \"width\": 839, \"x\": 0, \"y\": 0}}, {\"action\": {\"text\": \"\\u7b2c\\u4e8c\\u6b65\\uff0c\\n\\n\\u6b61\\u8fce\\u9032\\u5165SMart\\u5546\\u5e97\\u9032\\u884c\\u9ad4\\u9a57\\uff01\\n(\\u8acb\\u5f80\\u53f3\\u9ede\\u4e0b\\u4e00\\u6b65)\", \"type\": \"message\"}, \"bounds\": {\"height\": 839, \"width\": 828, \"x\": 842, \"y\": 8}}, {\"action\": {\"text\": \"\\u7b2c\\u4e09\\u6b65\\uff0c\\n\\n\\u9032\\u5165\\u5546\\u5e97\\u5f8c\\u6703\\u9032\\u5165\\u6703\\u54e1\\u767b\\u5165\\u5340\\uff0c\\u6210\\u529f\\u5f8c\\u5373\\u53ef\\u62ff\\u53d6\\u5546\\u54c1\\u3002\\n(\\u8acb\\u9ede\\u4e0b\\u4e00\\u6b65)\", \"type\": \"message\"}, \"bounds\": {\"height\": 834, \"width\": 829, \"x\": 1671, \"y\": 17}}, {\"action\": {\"data\": \"menu=rich_menu_0\", \"text\": \"\\u7b2c\\u516d\\u6b65\\uff0c\\n\\n\\u8cc7\\u6599\\u90fd\\u6703\\u5b58\\u53d6\\u4e26\\u66f4\\u65b0\\uff0c\\u6bcf\\u4e00\\u6b21\\u67e5\\u770b\\u8cc7\\u6599\\u5c31\\u6703\\u986f\\u793a\\u645f\\uff01\\n\\n\\u9ad4\\u9a57\\u7d50\\u675f\\u4e86\\uff01\\u8acb\\u591a\\u591a\\u4f7f\\u7528SMart\\uff01\\n(\\u9ede\\u9078\\u5b8c\\u81ea\\u52d5\\u56de\\u5230\\u6703\\u54e1\\u670d\\u52d9\\u9078\\u55ae\\uff09\", \"type\": \"postback\"}, \"bounds\": {\"height\": 834, \"width\": 818, \"x\": 4, \"y\": 852}}, {\"action\": {\"text\": \"\\u7b2c\\u4e94\\u6b65\\uff0c\\n\\n\\u6d88\\u8cbb\\u7d50\\u675f\\u81ea\\u52d5\\u5beb\\u5165\\u7cfb\\u7d71\\uff0c\\u4ee5\\u53ca\\u986f\\u793a\\u6b77\\u53f2\\u4ea4\\u6613\\u3002\\n(\\u8acb\\u9ede\\u4e0b\\u4e00\\u6b65)\", \"type\": \"message\"}, \"bounds\": {\"height\": 835, \"width\": 836, \"x\": 821, \"y\": 851}}, {\"action\": {\"text\": \"\\u7b2c\\u56db\\u6b65\\uff0c\\n\\n\\u6703\\u54e1\\u62ff\\u53d6\\u5546\\u54c1\\uff0c\\u7cfb\\u7d71\\u5c07\\u6703\\u66f4\\u65b0\\u6703\\u54e1\\u7684\\u8cfc\\u7269\\u8eca\\uff0c\\n\\u7576\\u8d70\\u81f3\\u7d50\\u5e33\\u5340\\uff0c\\u7121\\u9700\\u51fa\\u793a\\u4fe1\\u7528\\u5361\\u6216\\u662f\\u73fe\\u91d1\\u4ea4\\u6613\\uff0c\\u9ad4\\u9a57\\u300c\\u5546\\u54c1\\u62ff\\u4e86\\u5c31\\u8d70\\u300d\\u7684\\u5feb\\u901f\\u6d88\\u8cbb\\u578b\\u614b\\u3002\\n(\\u8acb\\u9ede\\u4e0b\\u4e00\\u6b65)\", \"type\": \"message\"}, \"bounds\": {\"height\": 836, \"width\": 833, \"x\": 1667, \"y\": 850}}], \"chatBarText\": \"\\u5716\\u6587\\u9078\\u55ae\", \"name\": \"menu_0\", \"richMenuId\": \"richmenu-96fdada1d752ebb2c221d4fb2b83025b\", \"selected\": true, \"size\": {\"height\": 1686, \"width\": 2500}},\n",
       " {\"areas\": [{\"action\": {\"data\": \"folder=\\u8a3b\\u518a\", \"text\": \"\\u5c0e\\u5165\\u8a3b\\u518a\\u9801\\u9762\", \"type\": \"postback\"}, \"bounds\": {\"height\": 829, \"width\": 1263, \"x\": 0, \"y\": 14}}, {\"action\": {\"data\": \"folder=\\u6211\\u8981\\u767b\\u5165\", \"text\": \"\\u767b\\u5165\\u9801\\u9762\", \"type\": \"postback\"}, \"bounds\": {\"height\": 825, \"width\": 1217, \"x\": 1271, \"y\": 12}}], \"chatBarText\": \"\\u67e5\\u770b\\u66f4\\u591a\\u8cc7\\u8a0a\", \"name\": \"\\u5716\\u6587\\u9078\\u55ae 2\", \"richMenuId\": \"richmenu-ecd9b127e394ef29b2a5cc908c6bdf45\", \"selected\": true, \"size\": {\"height\": 843, \"width\": 2500}},\n",
       " {\"areas\": [{\"action\": {\"data\": \"folder=smart\", \"text\": \"\\u95dc\\u65bcSMart\", \"type\": \"postback\"}, \"bounds\": {\"height\": 851, \"width\": 839, \"x\": 0, \"y\": 0}}, {\"action\": {\"data\": \"folder=\\u6d3b\\u52d5\\u5167\\u5bb9\", \"text\": \"SMart\\u6d3b\\u52d5\", \"type\": \"postback\"}, \"bounds\": {\"height\": 839, \"width\": 828, \"x\": 842, \"y\": 8}}, {\"action\": {\"data\": \"folder=\\u5546\\u54c1\\u7cfb\\u7d71\", \"text\": \"SMart\\u63a8\\u85a6\", \"type\": \"postback\"}, \"bounds\": {\"height\": 834, \"width\": 829, \"x\": 1671, \"y\": 17}}, {\"action\": {\"data\": \"folder=\\u6d88\\u8cbb\\u8a18\\u9304\", \"text\": \"\\u6b77\\u53f2\\u7d00\\u9304\", \"type\": \"postback\"}, \"bounds\": {\"height\": 834, \"width\": 818, \"x\": 4, \"y\": 852}}, {\"action\": {\"data\": \"folder=hello\", \"text\": \"\\u8cfc\\u7269\\u8eca\", \"type\": \"postback\"}, \"bounds\": {\"height\": 835, \"width\": 836, \"x\": 821, \"y\": 851}}, {\"action\": {\"data\": \"folder=hi\", \"text\": \"\\u6703\\u54e1\\u4e2d\\u5fc3\", \"type\": \"postback\"}, \"bounds\": {\"height\": 836, \"width\": 833, \"x\": 1667, \"y\": 850}}], \"chatBarText\": \"\\u5716\\u6587\\u9078\\u55ae\", \"name\": \"\\u5716\\u6587\\u9078\\u55ae 1\", \"richMenuId\": \"richmenu-4dee334a5fbb33b30e91fe77b1aa78dc\", \"selected\": true, \"size\": {\"height\": 1686, \"width\": 2500}},\n",
       " {\"areas\": [{\"action\": {\"data\": \"folder=\\u8a3b\\u518a\", \"text\": \"\\u5c0e\\u5165\\u8a3b\\u518a\\u9801\\u9762\", \"type\": \"postback\"}, \"bounds\": {\"height\": 829, \"width\": 1263, \"x\": 0, \"y\": 14}}, {\"action\": {\"data\": \"folder=\\u6211\\u8981\\u767b\\u5165\", \"text\": \"\\u767b\\u5165\\u9801\\u9762\", \"type\": \"postback\"}, \"bounds\": {\"height\": 825, \"width\": 1217, \"x\": 1271, \"y\": 12}}], \"chatBarText\": \"\\u67e5\\u770b\\u66f4\\u591a\\u8cc7\\u8a0a\", \"name\": \"\\u5716\\u6587\\u9078\\u55ae 2\", \"richMenuId\": \"richmenu-ab632e01b8035a9ff91d2d0546ceb9ba\", \"selected\": true, \"size\": {\"height\": 843, \"width\": 2500}}]"
      ]
     },
     "execution_count": 5,
     "metadata": {},
     "output_type": "execute_result"
    }
   ],
   "source": [
    "'''\n",
    "\n",
    "查詢帳號內擁有的richmenu \n",
    "\n",
    "'''\n",
    "\n",
    "from linebot import (\n",
    "    LineBotApi\n",
    ")\n",
    "\n",
    "import json\n",
    "\n",
    "secretFileContentJson=json.load(open(\"./line_secret_key\",'r',encoding='utf8'))\n",
    "line_bot_api = LineBotApi(secretFileContentJson.get(\"channel_access_token\"))\n",
    "\n",
    "line_bot_api.get_rich_menu_list()\n"
   ]
  },
  {
   "cell_type": "code",
   "execution_count": null,
   "metadata": {},
   "outputs": [],
   "source": [
    "'''\n",
    "\n",
    "移除帳號內的richmenu\n",
    "\n",
    "'''\n",
    "\n",
    "from linebot import (\n",
    "    LineBotApi\n",
    ")\n",
    "\n",
    "import json\n",
    "secretFileContentJson=json.load(open(\"./line_secret_key\",'r',encoding='utf8'))\n",
    "line_bot_api = LineBotApi(secretFileContentJson.get(\"channel_access_token\"))\n",
    "\n",
    "# 設定要移除的rich_menu\n",
    "rich_menu_name_array = [\"rich_menu_0\"]\n",
    "\n",
    "for rich_menu_name in rich_menu_name_array:\n",
    "    \n",
    "    # 讀取rich_menu_id檔案，並告知 Line 進行刪除，並在刪除後，把本地檔案內容清除\n",
    "    with open(\"素材/\"+rich_menu_name+'/rich_menu_id', 'r') as myfile:\n",
    "        rich_menu_id = myfile.read()\n",
    "        deleteResult = line_bot_api.delete_rich_menu(rich_menu_id)\n",
    "        print(deleteResult)\n",
    "        \n",
    "    f = open(\"素材/\"+rich_menu_name+\"/rich_menu_id\", \"w\")\n",
    "    f.write('')\n",
    "    f.close() "
   ]
  },
  {
   "cell_type": "code",
   "execution_count": 6,
   "metadata": {},
   "outputs": [],
   "source": [
    "'''\n",
    "\n",
    "解除用戶綁定\n",
    "\n",
    "'''\n",
    "\n",
    "from linebot import (\n",
    "    LineBotApi\n",
    ")\n",
    "\n",
    "import json\n",
    "\n",
    "# rich_menu_id_array = [\"rich_menu_0\"]\n",
    "\n",
    "secretFileContentJson=json.load(open(\"./line_secret_key\",'r',encoding='utf8'))\n",
    "line_bot_api = LineBotApi(secretFileContentJson.get(\"channel_access_token\"))\n",
    "\n",
    "self_user_id='Ua243254ee6e414d980798c58c3c3f92e'\n",
    "line_bot_api.unlink_rich_menu_from_user(self_user_id)"
   ]
  },
  {
   "cell_type": "code",
   "execution_count": 8,
   "metadata": {},
   "outputs": [],
   "source": [
    "'''\n",
    "\n",
    "綁定個人用戶進行測試\n",
    "\n",
    "'''\n",
    "\n",
    "from linebot import (\n",
    "    LineBotApi\n",
    ")\n",
    "\n",
    "import json\n",
    "\n",
    "# rich_menu_id_array = [\"rich_menu_0\"]\n",
    "\n",
    "secretFileContentJson=json.load(open(\"./line_secret_key\",'r',encoding='utf8'))\n",
    "line_bot_api = LineBotApi(secretFileContentJson.get(\"channel_access_token\"))\n",
    "\n",
    "self_user_id='Ua243254ee6e414d980798c58c3c3f92e'\n",
    "rich_menu_id='richmenu-641f7f831b5ee641a0de77fa9ed24663'\n",
    "'richmenu-18f50c9b9fa55dafeaf970265a5399dd']\n",
    "\n",
    "line_bot_api.unlink_rich_menu_from_user(self_user_id)\n",
    "line_bot_api.link_rich_menu_to_user(self_user_id,rich_menu_id)"
   ]
  },
  {
   "cell_type": "code",
   "execution_count": null,
   "metadata": {},
   "outputs": [],
   "source": []
  },
  {
   "cell_type": "code",
   "execution_count": null,
   "metadata": {},
   "outputs": [],
   "source": []
  }
 ],
 "metadata": {
  "kernelspec": {
   "display_name": "Python 3",
   "language": "python",
   "name": "python3"
  },
  "language_info": {
   "codemirror_mode": {
    "name": "ipython",
    "version": 3
   },
   "file_extension": ".py",
   "mimetype": "text/x-python",
   "name": "python",
   "nbconvert_exporter": "python",
   "pygments_lexer": "ipython3",
   "version": "3.7.6"
  }
 },
 "nbformat": 4,
 "nbformat_minor": 2
}
